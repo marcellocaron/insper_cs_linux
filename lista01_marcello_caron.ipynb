{
 "cells": [
  {
   "cell_type": "markdown",
   "metadata": {},
   "source": [
    "INSPER - Computação para a Ciência dos Dados\n",
    "\n",
    "# Computação para a Ciência dos Dados - Lista 01\n",
    "\n",
    "Faça a lista abaixo para praticar programação em Python. Utilize os conceitos vistos na Aula 01, dicas abaixo e consulte documentações de Python na internet. Em caso de dúvidas, contate o Prof. Suelane. \n",
    "\n",
    "**Entrega**:xx/xx/xxxx, 18h, via Blackboard - IMPORTANTE: renomeie o notebook incluindo seu nome! "
   ]
  },
  {
   "cell_type": "markdown",
   "metadata": {},
   "source": [
    "## 01 - Variáveis\n",
    "Crie duas variáveis, uma para salvar sua idade e outra para salvar seu nome completo. Depois, utilize o `print()` para imprimir a mensagem \"Olá, meu nome é _seu nome_ , tenho _sua idade_ anos.\". Importante: o texto precisa ser preenchido utilizando as variáveis criadas."
   ]
  },
  {
   "cell_type": "code",
   "execution_count": 2,
   "metadata": {
    "tags": []
   },
   "outputs": [
    {
     "name": "stdout",
     "output_type": "stream",
     "text": [
      "Olá, meu nome é Marcello Caron Saiani, tenho 34 anos.\n"
     ]
    }
   ],
   "source": [
    "idade = 34\n",
    "nome = \"Marcello Caron Saiani\"\n",
    "\n",
    "print(f'Olá, meu nome é {nome}, tenho {idade} anos.')"
   ]
  },
  {
   "cell_type": "markdown",
   "metadata": {},
   "source": [
    "## 02 - Calculando médias\n",
    "\n",
    "Escreva um programa que calcula e retorna a média de uma lista de idades. Você **não** pode usar as funções prontas de Python como `sum()`. "
   ]
  },
  {
   "cell_type": "code",
   "execution_count": 3,
   "metadata": {
    "tags": []
   },
   "outputs": [],
   "source": [
    "idades = [20, 21, 20, 22, 19, 18, 14, 35] # Deve retornar 21.125"
   ]
  },
  {
   "cell_type": "code",
   "execution_count": 10,
   "metadata": {
    "tags": []
   },
   "outputs": [
    {
     "name": "stdout",
     "output_type": "stream",
     "text": [
      "21.125\n"
     ]
    }
   ],
   "source": [
    "len_idades = len(idades)\n",
    "\n",
    "acumulado = 0\n",
    "\n",
    "for i in idades:\n",
    "    acumulado = acumulado + i\n",
    "    \n",
    "print(acumulado/len_idades)"
   ]
  },
  {
   "cell_type": "markdown",
   "metadata": {},
   "source": [
    "## 03 - Soma de inteiros \n",
    "Faça um programa que leia 4 números inteiros, armazene-os em uma lista, imprima a lista e a soma dos valores. Não utilize funções prontas do Python para realizar a soma.\n",
    "\n",
    "**Dica**: estude o funcionamento da função `input()` e das conversões de tipos de dados de strings para números."
   ]
  },
  {
   "cell_type": "code",
   "execution_count": 12,
   "metadata": {
    "tags": []
   },
   "outputs": [
    {
     "name": "stdin",
     "output_type": "stream",
     "text": [
      "Forneça o número A: 2\n",
      "Forneça o número B: 4\n",
      "Forneça o número C: 7\n",
      "Forneça o número D: 9\n"
     ]
    },
    {
     "name": "stdout",
     "output_type": "stream",
     "text": [
      "[2, 4, 7, 9]\n",
      "22\n"
     ]
    }
   ],
   "source": [
    "numero_a = int(input(prompt='Forneça o número A:'))\n",
    "numero_b = int(input(prompt='Forneça o número B:'))\n",
    "numero_c = int(input(prompt='Forneça o número C:'))\n",
    "numero_d = int(input(prompt='Forneça o número D:'))\n",
    "\n",
    "lista_numeros = [numero_a,numero_b,numero_c,numero_d]\n",
    "print(lista_numeros)\n",
    "print(numero_a + numero_b + numero_c + numero_d)"
   ]
  },
  {
   "cell_type": "markdown",
   "metadata": {
    "tags": []
   },
   "source": [
    "## 04 - List Comprehension\n",
    "Crie uma _List Comprehension_ para gerar uma lista com os quadrados PARES dos números inteiros de 0 até n, sendo que n é o valor de uma variável. \n",
    "\n",
    "Ex: `n = 10`, deve gerar a lista `[0, 4, 16, 36, 64, 100]`"
   ]
  },
  {
   "cell_type": "code",
   "execution_count": 9,
   "metadata": {},
   "outputs": [
    {
     "data": {
      "text/plain": [
       "[0, 4, 16, 36, 64, 100]"
      ]
     },
     "execution_count": 9,
     "metadata": {},
     "output_type": "execute_result"
    }
   ],
   "source": [
    "n = 10\n",
    "\n",
    "[i ** 2 for i in range(0, n+1) if i % 2 == 0]"
   ]
  },
  {
   "cell_type": "markdown",
   "metadata": {},
   "source": [
    "## 05 - Pirâmide \n",
    "\n",
    "Dado um inteiro _n_ informado pelo usuário, faça um programa para imprimir a seguinte estrutura até a _n_-ésima linha.\n",
    "\n",
    "    1\n",
    "    2   2\n",
    "    3   3   3\n",
    "    .....\n",
    "    n   n   n   n   n   n  ... n"
   ]
  },
  {
   "cell_type": "code",
   "execution_count": 18,
   "metadata": {},
   "outputs": [
    {
     "name": "stdout",
     "output_type": "stream",
     "text": [
      "1 \n",
      "2 2 \n",
      "3 3 3 \n",
      "4 4 4 4 \n",
      "5 5 5 5 5 \n",
      "6 6 6 6 6 6 \n",
      "7 7 7 7 7 7 7 \n",
      "8 8 8 8 8 8 8 8 \n",
      "9 9 9 9 9 9 9 9 9 \n",
      "10 10 10 10 10 10 10 10 10 10 \n",
      "11 11 11 11 11 11 11 11 11 11 11 \n",
      "12 12 12 12 12 12 12 12 12 12 12 12 \n",
      "13 13 13 13 13 13 13 13 13 13 13 13 13 \n",
      "14 14 14 14 14 14 14 14 14 14 14 14 14 14 \n",
      "15 15 15 15 15 15 15 15 15 15 15 15 15 15 15 \n",
      "16 16 16 16 16 16 16 16 16 16 16 16 16 16 16 16 \n",
      "17 17 17 17 17 17 17 17 17 17 17 17 17 17 17 17 17 \n",
      "18 18 18 18 18 18 18 18 18 18 18 18 18 18 18 18 18 18 \n",
      "19 19 19 19 19 19 19 19 19 19 19 19 19 19 19 19 19 19 19 \n",
      "20 20 20 20 20 20 20 20 20 20 20 20 20 20 20 20 20 20 20 20 \n"
     ]
    }
   ],
   "source": [
    "n = 20\n",
    "\n",
    "for i in range(1, n+1):\n",
    "    print((str(i) + ' ') * i)"
   ]
  },
  {
   "cell_type": "markdown",
   "metadata": {},
   "source": [
    "## 06 - Loja de tintas\n",
    "\n",
    "Faça um programa para uma loja de tintas. O programa deverá pedir o tamanho em metros quadrados da área a ser pintada. Considere que a cobertura da tinta é de 1 litro para cada 3 metros quadrados e que a tinta é vendida em latas de 18 litros, que custam R$ 80,00. Informe ao usuário a quantidades de latas de tinta a serem compradas e o preço total."
   ]
  },
  {
   "cell_type": "code",
   "execution_count": 36,
   "metadata": {},
   "outputs": [
    {
     "name": "stdin",
     "output_type": "stream",
     "text": [
      "Informe a áreas a ser pintada em m2: 150\n"
     ]
    },
    {
     "name": "stdout",
     "output_type": "stream",
     "text": [
      "Precisará comprar 3 latas de tinta. O preço total será R$240,00.\n"
     ]
    }
   ],
   "source": [
    "import math\n",
    "\n",
    "area = float(input(prompt='Informe a áreas a ser pintada em m2:'))\n",
    "\n",
    "litros = area / 3\n",
    "latas = math.ceil(litros / 18)\n",
    "preco = int(latas * 80)\n",
    "print(f'Precisará comprar {latas} latas de tinta. O preço total será R${preco},00.')"
   ]
  },
  {
   "cell_type": "markdown",
   "metadata": {},
   "source": [
    "## 07 - Palíndromos\n",
    "\n",
    "Um palíndromo é uma sequência de caracteres cuja leitura é idêntica se feita da direita para esquerda ou vice−versa. Por exemplo: `OSSO` e `OVO` são palíndromos. Em textos mais complexos os espaços e pontuação são ignorados. A frase `SUBI NO ONIBUS` é o exemplo de uma frase palíndroma onde os espaços foram ignorados. Faça um programa que leia uma string, mostre−a e diga se é um palíndromo ou não."
   ]
  },
  {
   "cell_type": "code",
   "execution_count": 32,
   "metadata": {},
   "outputs": [
    {
     "name": "stdin",
     "output_type": "stream",
     "text": [
      "Informe a palavra: osso\n"
     ]
    },
    {
     "name": "stdout",
     "output_type": "stream",
     "text": [
      "A palavra osso é um palíndromo!\n"
     ]
    }
   ],
   "source": [
    "original = str(input(prompt='Informe a palavra:'))\n",
    "original_list = list(original)\n",
    "\n",
    "my_dictionary = {}\n",
    "\n",
    "for ix, i in enumerate(original_list):\n",
    "    my_dictionary[ix] = i\n",
    "\n",
    "my_dictionary_sorted = dict(sorted(my_dictionary.items(), key=lambda x:x[0], reverse=True))\n",
    "\n",
    "reverse = ''.join(list(my_dictionary_sorted.values()))\n",
    "\n",
    "if original == str(reverse):\n",
    "    print(f'A palavra {original} é um palíndromo!')\n",
    "else:\n",
    "    print(f'A palavra {original} não é um palíndromo!')"
   ]
  },
  {
   "cell_type": "markdown",
   "metadata": {},
   "source": [
    "## 08 - Lista de compras\n",
    "Utilizando o arquivo `supermercado.csv` anexado, complete o programa abaixo para responder aos seguintes desafios: \n",
    "\n",
    "1. Qual o valor total da compra? \n",
    "2. Quantos produtos foram comprados? Se representar uma fração, considere um único produto\n",
    "3. Qual o produto mais caro (em termos de valor unitário)?\n",
    "\n",
    "_Importante_ : você não pode usar bibliotecas auxiliares como Pandas ou similares. Aproveite para exercitar os comandos básicos do Python!\n",
    "\n",
    "_Estrutura do arquivo_ : para cada linha temos PRODUTO;QUANTIDADE;PRECO UNIT. (R$). Exemplo: Achocolatado;2;5.89\n",
    "\n",
    "_Dica_ : antes de seguir o código abaixo, verifique o conteúdo da variável `lines` e faça as adaptações necessárias "
   ]
  },
  {
   "cell_type": "code",
   "execution_count": 61,
   "metadata": {},
   "outputs": [],
   "source": [
    "# Leitura do conteúdo do arquivo\n",
    "f = open(\"supermercado.csv\", 'r')\n",
    "lines = f.readlines()\n",
    "f.close()\n",
    "\n",
    "# Gera uma matriz de informações, cada produto numa linha, cada info numa coluna\n",
    "# Aqui você terá que converter os tipos de dados de acordo o formato da informação da lista (int, double ou string)\n",
    "\n",
    "\n",
    "#for ix, i in enumerate(lines):\n",
    "    #print(i)\n",
    "# Continue..."
   ]
  },
  {
   "cell_type": "markdown",
   "metadata": {},
   "source": [
    "Quantidade"
   ]
  },
  {
   "cell_type": "code",
   "execution_count": 80,
   "metadata": {},
   "outputs": [
    {
     "data": {
      "text/plain": [
       "[2.0,\n",
       " 3.0,\n",
       " 10.0,\n",
       " 1.0,\n",
       " 4.0,\n",
       " 3.0,\n",
       " 2.0,\n",
       " 2.0,\n",
       " 2.8,\n",
       " 5.0,\n",
       " 3.0,\n",
       " 0.76,\n",
       " 1.98,\n",
       " 2.0,\n",
       " 1.0,\n",
       " 2.0,\n",
       " 5.0,\n",
       " 1.0,\n",
       " 1.0,\n",
       " 3.0,\n",
       " 2.0,\n",
       " 2.0,\n",
       " 9.0,\n",
       " 4.0,\n",
       " 3.76,\n",
       " 4.0,\n",
       " 2.02,\n",
       " 2.0,\n",
       " 2.0,\n",
       " 5.0,\n",
       " 5.0,\n",
       " 0.3,\n",
       " 2.0,\n",
       " 2.0,\n",
       " 0.78,\n",
       " 0.35,\n",
       " 0.4,\n",
       " 5.0,\n",
       " 2.0,\n",
       " 4.0,\n",
       " 10.0,\n",
       " 0.983,\n",
       " 2.0]"
      ]
     },
     "execution_count": 80,
     "metadata": {},
     "output_type": "execute_result"
    }
   ],
   "source": [
    "lista_qtd = [i.split(';', 2)[1] for i in lines]\n",
    "lista_qtd.pop(0)\n",
    "\n",
    "for i in range(0, len(lista_qtd)):\n",
    "    lista_qtd[i] = float(lista_qtd[i])\n",
    "\n",
    "lista_qtd"
   ]
  },
  {
   "cell_type": "markdown",
   "metadata": {},
   "source": [
    "Preço"
   ]
  },
  {
   "cell_type": "code",
   "execution_count": 71,
   "metadata": {},
   "outputs": [
    {
     "data": {
      "text/plain": [
       "[5.89,\n",
       " 2.03,\n",
       " 1.89,\n",
       " 2.99,\n",
       " 14.87,\n",
       " 7.45,\n",
       " 17.8,\n",
       " 8.04,\n",
       " 4.99,\n",
       " 5.99,\n",
       " 9.7,\n",
       " 3.45,\n",
       " 3.99,\n",
       " 3.67,\n",
       " 9.9,\n",
       " 3.78,\n",
       " 2.46,\n",
       " 4.0,\n",
       " 4.05,\n",
       " 3.78,\n",
       " 5.82,\n",
       " 3.5,\n",
       " 1.23,\n",
       " 8.9,\n",
       " 2.75,\n",
       " 2.99,\n",
       " 12.99,\n",
       " 9.9,\n",
       " 5.76,\n",
       " 2.88,\n",
       " 1.99,\n",
       " 40.0,\n",
       " 6.0,\n",
       " 5.99,\n",
       " 4.89,\n",
       " 50.0,\n",
       " 45.0,\n",
       " 6.0,\n",
       " 2.75,\n",
       " 4.89,\n",
       " 4.97,\n",
       " 6.3,\n",
       " 37.0]"
      ]
     },
     "execution_count": 71,
     "metadata": {},
     "output_type": "execute_result"
    }
   ],
   "source": [
    "lista_preco = [i.split(';', 3)[2] for i in lines]\n",
    "\n",
    "lista_preco.pop(0)\n",
    "\n",
    "char = '\\n'\n",
    " \n",
    "# Remove character from Strings list\n",
    "# using loop + replace() + enumerate()\n",
    "for idx, ele in enumerate(lista_preco):\n",
    "    lista_preco[idx] = ele.replace(char, '')\n",
    "\n",
    "\n",
    "for i in range(0, len(lista_preco)):\n",
    "    lista_preco[i] = float(lista_preco[i])\n",
    "\n",
    "lista_preco"
   ]
  },
  {
   "cell_type": "code",
   "execution_count": 75,
   "metadata": {},
   "outputs": [
    {
     "data": {
      "text/plain": [
       "743.0710999999999"
      ]
     },
     "execution_count": 75,
     "metadata": {},
     "output_type": "execute_result"
    }
   ],
   "source": [
    "import numpy as np\n",
    "\n",
    "multiplied = list(np.multiply(lista_qtd, lista_preco))\n",
    "sum(multiplied)"
   ]
  },
  {
   "cell_type": "markdown",
   "metadata": {},
   "source": [
    "# 1: Qual o valor total da compra? -> R$ 743,07"
   ]
  },
  {
   "cell_type": "code",
   "execution_count": 81,
   "metadata": {},
   "outputs": [
    {
     "data": {
      "text/plain": [
       "[2,\n",
       " 3,\n",
       " 10,\n",
       " 1,\n",
       " 4,\n",
       " 3,\n",
       " 2,\n",
       " 2,\n",
       " 3,\n",
       " 5,\n",
       " 3,\n",
       " 1,\n",
       " 2,\n",
       " 2,\n",
       " 1,\n",
       " 2,\n",
       " 5,\n",
       " 1,\n",
       " 1,\n",
       " 3,\n",
       " 2,\n",
       " 2,\n",
       " 9,\n",
       " 4,\n",
       " 4,\n",
       " 4,\n",
       " 3,\n",
       " 2,\n",
       " 2,\n",
       " 5,\n",
       " 5,\n",
       " 1,\n",
       " 2,\n",
       " 2,\n",
       " 1,\n",
       " 1,\n",
       " 1,\n",
       " 5,\n",
       " 2,\n",
       " 4,\n",
       " 10,\n",
       " 1,\n",
       " 2]"
      ]
     },
     "execution_count": 81,
     "metadata": {},
     "output_type": "execute_result"
    }
   ],
   "source": [
    "import math\n",
    "\n",
    "lista_qtd_arredondado = lista_qtd\n",
    "\n",
    "for ix,i in enumerate(lista_qtd_arredondado):\n",
    "    lista_qtd_arredondado[ix] = math.ceil(i)\n",
    "\n",
    "lista_qtd_arredondado"
   ]
  },
  {
   "cell_type": "code",
   "execution_count": 82,
   "metadata": {},
   "outputs": [
    {
     "data": {
      "text/plain": [
       "130"
      ]
     },
     "execution_count": 82,
     "metadata": {},
     "output_type": "execute_result"
    }
   ],
   "source": [
    "sum(lista_qtd_arredondado)"
   ]
  },
  {
   "cell_type": "markdown",
   "metadata": {},
   "source": [
    "# 2: Quantos produtos foram comprados? Se representar uma fração, considere um único produto -> 130 produtos"
   ]
  },
  {
   "cell_type": "code",
   "execution_count": 109,
   "metadata": {},
   "outputs": [],
   "source": [
    "idx_mais_caro = list(filter(lambda x: x[1]== 50, enumerate(lista_preco)))[0][0]"
   ]
  },
  {
   "cell_type": "code",
   "execution_count": 110,
   "metadata": {},
   "outputs": [
    {
     "data": {
      "text/plain": [
       "35"
      ]
     },
     "execution_count": 110,
     "metadata": {},
     "output_type": "execute_result"
    }
   ],
   "source": [
    "idx_mais_caro"
   ]
  },
  {
   "cell_type": "code",
   "execution_count": 111,
   "metadata": {},
   "outputs": [
    {
     "data": {
      "text/plain": [
       "'Presunto'"
      ]
     },
     "execution_count": 111,
     "metadata": {},
     "output_type": "execute_result"
    }
   ],
   "source": [
    "lista_produto = [i.split(';', 1)[0] for i in lines]\n",
    "lista_produto.pop(0)\n",
    "lista_produto[idx_mais_caro]"
   ]
  },
  {
   "cell_type": "markdown",
   "metadata": {},
   "source": [
    "# 3: Qual o produto mais caro (em termos de valor unitário)? -> Presunto"
   ]
  }
 ],
 "metadata": {
  "kernelspec": {
   "display_name": "Python 3 (ipykernel)",
   "language": "python",
   "name": "python3"
  },
  "language_info": {
   "codemirror_mode": {
    "name": "ipython",
    "version": 3
   },
   "file_extension": ".py",
   "mimetype": "text/x-python",
   "name": "python",
   "nbconvert_exporter": "python",
   "pygments_lexer": "ipython3",
   "version": "3.11.4"
  }
 },
 "nbformat": 4,
 "nbformat_minor": 4
}
